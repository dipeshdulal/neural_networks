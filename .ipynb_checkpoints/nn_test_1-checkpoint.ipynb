{
 "cells": [
  {
   "cell_type": "code",
   "execution_count": 23,
   "metadata": {
    "collapsed": true
   },
   "outputs": [],
   "source": [
    "from nn_lib import NeuralNetwork\n",
    "import numpy\n",
    "import matplotlib.pyplot as plt\n",
    "import cv2\n",
    "%matplotlib inline\n",
    "\n",
    "# number of input, hidden and output nodes\n",
    "input_nodes = 784\n",
    "hidden_nodes = 200\n",
    "output_nodes = 10\n",
    "\n",
    "# learning rate\n",
    "learning_rate = 0.1\n",
    "\n",
    "# create instance of neural network\n",
    "n = NeuralNetwork(input_nodes, output_nodes, hidden_nodes, learning_rate)\n",
    "# n = neuralNetwork(input_nodes, hidden_nodes, output_nodes, learning_rate)\n",
    "\n",
    "# load the mnist training data CSV file into a list\n",
    "training_data_file = open(\"mnist_train.csv\", 'r')\n",
    "training_data_list = training_data_file.readlines()\n",
    "training_data_file.close()\n",
    "training_data_list = training_data_list[:10000]"
   ]
  },
  {
   "cell_type": "code",
   "execution_count": 24,
   "metadata": {
    "collapsed": true
   },
   "outputs": [],
   "source": [
    "# epochs is the number of times the training data set is used for training\n",
    "epochs = 5\n",
    "\n",
    "for e in range(epochs):\n",
    "    # go through all records in the training data set\n",
    "    for record in training_data_list:\n",
    "        # split the record by the ',' commas\n",
    "        all_values = record.split(',')\n",
    "        # scale and shift the inputs\n",
    "        inputs = (numpy.asfarray(all_values[1:]) / 255.0 * 0.99) + 0.01\n",
    "        # create the target output values (all 0.01, except the desired label which is 0.99)\n",
    "        targets = numpy.zeros(output_nodes) + 0.01\n",
    "        # all_values[0] is the target label for this record\n",
    "        targets[int(all_values[0])] = 0.99\n",
    "        n.train(inputs, targets)\n",
    "        pass\n",
    "    pass"
   ]
  },
  {
   "cell_type": "code",
   "execution_count": 47,
   "metadata": {},
   "outputs": [
    {
     "name": "stdout",
     "output_type": "stream",
     "text": [
      "[[  7.50685752e-03]\n",
      " [  2.93028321e-03]\n",
      " [  9.84142661e-01]\n",
      " [  1.12703888e-02]\n",
      " [  9.22892483e-03]\n",
      " [  1.50744050e-03]\n",
      " [  9.04770548e-02]\n",
      " [  4.40459445e-03]\n",
      " [  3.01265574e-04]\n",
      " [  5.26596127e-03]]\n",
      "2\n"
     ]
    },
    {
     "data": {
      "text/plain": [
       "array([[  9.05218647e-05],\n",
       "       [  1.13332734e-01],\n",
       "       [  2.75760736e-02],\n",
       "       [  1.84012356e-03],\n",
       "       [  5.08334565e-04],\n",
       "       [  9.42063106e-02],\n",
       "       [  3.29070124e-03],\n",
       "       [  2.14477144e-03],\n",
       "       [  3.92232793e-03],\n",
       "       [  9.62144020e-04]])"
      ]
     },
     "execution_count": 47,
     "metadata": {},
     "output_type": "execute_result"
    },
    {
     "data": {
      "image/png": "[encoded data removed]",
      "text/plain": [
       "<matplotlib.figure.Figure at 0x7fc5818f7e80>"
      ]
     },
     "metadata": {},
     "output_type": "display_data"
    }
   ],
   "source": [
    "val = training_data_list[400]\n",
    "val = val.split(',')\n",
    "inputs = (numpy.asfarray(val[1:]) / 255.0 * 0.99) + 0.01\n",
    "\n",
    "print(n.query(inputs))\n",
    "print(val[0])\n",
    "\n",
    "img = cv2.imread(\"7.jpg\", 0)\n",
    "img = 255-img\n",
    "plt.imshow(img)\n",
    "img = img.ravel()\n",
    "img = ( numpy.asfarray(img) / 255 *0.99 ) + 0.01\n",
    "print(n.query(img))"
   ]
  },
  {
   "cell_type": "code",
   "execution_count": null,
   "metadata": {},
   "outputs": [],
   "source": []
  }
 ],
 "metadata": {
  "kernelspec": {
   "display_name": "Python 3",
   "language": "python",
   "name": "python3"
  },
  "language_info": {
   "codemirror_mode": {
    "name": "ipython",
    "version": 3
   },
   "file_extension": ".py",
   "mimetype": "text/x-python",
   "name": "python",
   "nbconvert_exporter": "python",
   "pygments_lexer": "ipython3",
   "version": "3.5.2"
  }
 },
 "nbformat": 4,
 "nbformat_minor": 2
}
